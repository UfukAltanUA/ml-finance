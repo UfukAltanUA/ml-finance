{
 "cells": [
  {
   "cell_type": "code",
   "execution_count": 1,
   "metadata": {},
   "outputs": [],
   "source": [
    "import pandas as pd"
   ]
  },
  {
   "cell_type": "code",
   "execution_count": 2,
   "metadata": {},
   "outputs": [
    {
     "data": {
      "text/html": [
       "<div>\n",
       "<style scoped>\n",
       "    .dataframe tbody tr th:only-of-type {\n",
       "        vertical-align: middle;\n",
       "    }\n",
       "\n",
       "    .dataframe tbody tr th {\n",
       "        vertical-align: top;\n",
       "    }\n",
       "\n",
       "    .dataframe thead th {\n",
       "        text-align: right;\n",
       "    }\n",
       "</style>\n",
       "<table border=\"1\" class=\"dataframe\">\n",
       "  <thead>\n",
       "    <tr style=\"text-align: right;\">\n",
       "      <th></th>\n",
       "      <th>AAPL</th>\n",
       "      <th>MSFT</th>\n",
       "      <th>AMZN</th>\n",
       "      <th>GOOG</th>\n",
       "      <th>FB</th>\n",
       "      <th>TSLA</th>\n",
       "      <th>BRK.A</th>\n",
       "      <th>V</th>\n",
       "      <th>JNJ</th>\n",
       "      <th>WMT</th>\n",
       "      <th>...</th>\n",
       "      <th>COST</th>\n",
       "      <th>CVX</th>\n",
       "      <th>LLY</th>\n",
       "      <th>MCD</th>\n",
       "      <th>DHR</th>\n",
       "      <th>MDT</th>\n",
       "      <th>NEE</th>\n",
       "      <th>TXN</th>\n",
       "      <th>HON</th>\n",
       "      <th>UPS</th>\n",
       "    </tr>\n",
       "  </thead>\n",
       "  <tbody>\n",
       "    <tr>\n",
       "      <th>2005</th>\n",
       "      <td>13931</td>\n",
       "      <td>39788</td>\n",
       "      <td>8490.0</td>\n",
       "      <td>6139.0</td>\n",
       "      <td>NaN</td>\n",
       "      <td>NaN</td>\n",
       "      <td>81663.0</td>\n",
       "      <td>2665</td>\n",
       "      <td>50514.0</td>\n",
       "      <td>284310</td>\n",
       "      <td>...</td>\n",
       "      <td>52952</td>\n",
       "      <td>198200.0</td>\n",
       "      <td>14645.0</td>\n",
       "      <td>19117.0</td>\n",
       "      <td>7871.0</td>\n",
       "      <td>10055</td>\n",
       "      <td>11846.0</td>\n",
       "      <td>12335.0</td>\n",
       "      <td>27652.0</td>\n",
       "      <td>42581.0</td>\n",
       "    </tr>\n",
       "    <tr>\n",
       "      <th>2006</th>\n",
       "      <td>19315</td>\n",
       "      <td>44282</td>\n",
       "      <td>10711.0</td>\n",
       "      <td>10605.0</td>\n",
       "      <td>NaN</td>\n",
       "      <td>NaN</td>\n",
       "      <td>98539.0</td>\n",
       "      <td>2948</td>\n",
       "      <td>53324.0</td>\n",
       "      <td>312101</td>\n",
       "      <td>...</td>\n",
       "      <td>60151</td>\n",
       "      <td>210118.0</td>\n",
       "      <td>15691.0</td>\n",
       "      <td>20895.0</td>\n",
       "      <td>9466.0</td>\n",
       "      <td>11292</td>\n",
       "      <td>15710.0</td>\n",
       "      <td>14255.0</td>\n",
       "      <td>31367.0</td>\n",
       "      <td>47547.0</td>\n",
       "    </tr>\n",
       "    <tr>\n",
       "      <th>2007</th>\n",
       "      <td>24578</td>\n",
       "      <td>51122</td>\n",
       "      <td>14835.0</td>\n",
       "      <td>16594.0</td>\n",
       "      <td>153.0</td>\n",
       "      <td>NaN</td>\n",
       "      <td>118245.0</td>\n",
       "      <td>3590</td>\n",
       "      <td>61095.0</td>\n",
       "      <td>348368</td>\n",
       "      <td>...</td>\n",
       "      <td>64401</td>\n",
       "      <td>220904.0</td>\n",
       "      <td>18634.0</td>\n",
       "      <td>22787.0</td>\n",
       "      <td>11026.0</td>\n",
       "      <td>12299</td>\n",
       "      <td>15263.0</td>\n",
       "      <td>13835.0</td>\n",
       "      <td>34589.0</td>\n",
       "      <td>49692.0</td>\n",
       "    </tr>\n",
       "    <tr>\n",
       "      <th>2008</th>\n",
       "      <td>37491</td>\n",
       "      <td>60420</td>\n",
       "      <td>19166.0</td>\n",
       "      <td>21796.0</td>\n",
       "      <td>272.0</td>\n",
       "      <td>15.0</td>\n",
       "      <td>107786.0</td>\n",
       "      <td>6263</td>\n",
       "      <td>63747.0</td>\n",
       "      <td>377023</td>\n",
       "      <td>...</td>\n",
       "      <td>72483</td>\n",
       "      <td>273005.0</td>\n",
       "      <td>20372.0</td>\n",
       "      <td>23522.0</td>\n",
       "      <td>12697.0</td>\n",
       "      <td>13515</td>\n",
       "      <td>16410.0</td>\n",
       "      <td>12501.0</td>\n",
       "      <td>36556.0</td>\n",
       "      <td>51486.0</td>\n",
       "    </tr>\n",
       "    <tr>\n",
       "      <th>2009</th>\n",
       "      <td>42905</td>\n",
       "      <td>58437</td>\n",
       "      <td>24509.0</td>\n",
       "      <td>23651.0</td>\n",
       "      <td>777.0</td>\n",
       "      <td>112.0</td>\n",
       "      <td>112493.0</td>\n",
       "      <td>6911</td>\n",
       "      <td>61897.0</td>\n",
       "      <td>404254</td>\n",
       "      <td>...</td>\n",
       "      <td>71422</td>\n",
       "      <td>171636.0</td>\n",
       "      <td>21836.0</td>\n",
       "      <td>22745.0</td>\n",
       "      <td>10517.0</td>\n",
       "      <td>14599</td>\n",
       "      <td>15643.0</td>\n",
       "      <td>10427.0</td>\n",
       "      <td>29951.0</td>\n",
       "      <td>45297.0</td>\n",
       "    </tr>\n",
       "  </tbody>\n",
       "</table>\n",
       "<p>5 rows × 50 columns</p>\n",
       "</div>"
      ],
      "text/plain": [
       "       AAPL   MSFT     AMZN     GOOG     FB   TSLA     BRK.A     V      JNJ  \\\n",
       "2005  13931  39788   8490.0   6139.0    NaN    NaN   81663.0  2665  50514.0   \n",
       "2006  19315  44282  10711.0  10605.0    NaN    NaN   98539.0  2948  53324.0   \n",
       "2007  24578  51122  14835.0  16594.0  153.0    NaN  118245.0  3590  61095.0   \n",
       "2008  37491  60420  19166.0  21796.0  272.0   15.0  107786.0  6263  63747.0   \n",
       "2009  42905  58437  24509.0  23651.0  777.0  112.0  112493.0  6911  61897.0   \n",
       "\n",
       "         WMT  ...   COST       CVX      LLY      MCD      DHR    MDT      NEE  \\\n",
       "2005  284310  ...  52952  198200.0  14645.0  19117.0   7871.0  10055  11846.0   \n",
       "2006  312101  ...  60151  210118.0  15691.0  20895.0   9466.0  11292  15710.0   \n",
       "2007  348368  ...  64401  220904.0  18634.0  22787.0  11026.0  12299  15263.0   \n",
       "2008  377023  ...  72483  273005.0  20372.0  23522.0  12697.0  13515  16410.0   \n",
       "2009  404254  ...  71422  171636.0  21836.0  22745.0  10517.0  14599  15643.0   \n",
       "\n",
       "          TXN      HON      UPS  \n",
       "2005  12335.0  27652.0  42581.0  \n",
       "2006  14255.0  31367.0  47547.0  \n",
       "2007  13835.0  34589.0  49692.0  \n",
       "2008  12501.0  36556.0  51486.0  \n",
       "2009  10427.0  29951.0  45297.0  \n",
       "\n",
       "[5 rows x 50 columns]"
      ]
     },
     "execution_count": 2,
     "metadata": {},
     "output_type": "execute_result"
    }
   ],
   "source": [
    "path = \"C:/Users/Ufuk Altan/Downloads/Downloads/Data Science/PyFinance/04 - Intrinsic Value/\"\n",
    "df = pd.read_csv(path + '50-rev.csv', index_col = 0)\n",
    "df.head()"
   ]
  },
  {
   "cell_type": "code",
   "execution_count": 4,
   "metadata": {},
   "outputs": [],
   "source": [
    "df = df.loc['2009': '2019']"
   ]
  },
  {
   "cell_type": "code",
   "execution_count": 6,
   "metadata": {},
   "outputs": [],
   "source": [
    "df = df.transpose()"
   ]
  },
  {
   "cell_type": "code",
   "execution_count": 10,
   "metadata": {},
   "outputs": [
    {
     "data": {
      "text/plain": [
       "250.0"
      ]
     },
     "execution_count": 10,
     "metadata": {},
     "output_type": "execute_result"
    }
   ],
   "source": [
    "100 * (1) * (1 - .5) * (1 + 4)"
   ]
  },
  {
   "cell_type": "code",
   "execution_count": 11,
   "metadata": {},
   "outputs": [
    {
     "data": {
      "text/plain": [
       "0.35720880829745316"
      ]
     },
     "execution_count": 11,
     "metadata": {},
     "output_type": "execute_result"
    }
   ],
   "source": [
    "# Compound Average Growth Rate - CAGR\n",
    "# ((EV - BV) ^ 1/n) - 1\n",
    "r = (250 / 100) ** (1/3) -1\n",
    "r"
   ]
  },
  {
   "cell_type": "code",
   "execution_count": null,
   "metadata": {},
   "outputs": [],
   "source": [
    "#--------------------------------------------------------------------------------------------------------------------------------------------------------"
   ]
  }
 ],
 "metadata": {
  "kernelspec": {
   "display_name": "Python 3",
   "language": "python",
   "name": "python3"
  },
  "language_info": {
   "codemirror_mode": {
    "name": "ipython",
    "version": 3
   },
   "file_extension": ".py",
   "mimetype": "text/x-python",
   "name": "python",
   "nbconvert_exporter": "python",
   "pygments_lexer": "ipython3",
   "version": "3.7.3"
  }
 },
 "nbformat": 4,
 "nbformat_minor": 4
}
