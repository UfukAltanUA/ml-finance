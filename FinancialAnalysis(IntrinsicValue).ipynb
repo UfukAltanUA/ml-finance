{
 "cells": [
  {
   "cell_type": "code",
   "execution_count": 1,
   "metadata": {},
   "outputs": [],
   "source": [
    "import pandas as pd"
   ]
  },
  {
   "cell_type": "code",
   "execution_count": 4,
   "metadata": {},
   "outputs": [],
   "source": [
    "path = \"C:/Users/Ufuk Altan/Downloads/Downloads/Data Science/PyFinance/04 - Intrinsic Value/\"\n",
    "eps = pd.read_csv(path + '50-eps.csv', index_col = 0)"
   ]
  },
  {
   "cell_type": "code",
   "execution_count": 5,
   "metadata": {},
   "outputs": [],
   "source": [
    "current_eps = eps.transpose()[2019]\n",
    "current_eps = current_eps[current_eps > 0].copy()"
   ]
  },
  {
   "cell_type": "code",
   "execution_count": 7,
   "metadata": {},
   "outputs": [],
   "source": [
    "bvps = pd.read_csv(path + 'result-bvps.csv', index_col = 0)"
   ]
  },
  {
   "cell_type": "code",
   "execution_count": 8,
   "metadata": {},
   "outputs": [],
   "source": [
    "eps_gr = bvps.min(axis = 1)\n",
    "eps_gr = eps_gr[eps_gr > 0].copy()"
   ]
  },
  {
   "cell_type": "code",
   "execution_count": 9,
   "metadata": {},
   "outputs": [],
   "source": [
    "future_eps = current_eps * (1 + eps_gr)**10"
   ]
  },
  {
   "cell_type": "code",
   "execution_count": 10,
   "metadata": {},
   "outputs": [],
   "source": [
    "pe = pd.read_csv(path + 'result-pe-avg.csv', index_col = 0)"
   ]
  },
  {
   "cell_type": "code",
   "execution_count": 12,
   "metadata": {},
   "outputs": [],
   "source": [
    "future_pe = pd.concat([pe, eps_gr*100*2], axis = 1)\n",
    "future_pe = future_pe.min(axis = 1)"
   ]
  },
  {
   "cell_type": "code",
   "execution_count": 13,
   "metadata": {},
   "outputs": [],
   "source": [
    "future_price = future_eps * future_pe"
   ]
  },
  {
   "cell_type": "code",
   "execution_count": 14,
   "metadata": {},
   "outputs": [],
   "source": [
    "price = future_price * (1 / 1.15) ** 10"
   ]
  },
  {
   "cell_type": "code",
   "execution_count": 17,
   "metadata": {},
   "outputs": [
    {
     "data": {
      "text/plain": [
       "AAPL             NaN\n",
       "ABBV             NaN\n",
       "ABT              NaN\n",
       "ACN       191.322372\n",
       "ADBE       68.861299\n",
       "AMZN     3651.782703\n",
       "AVGO       53.969961\n",
       "BAC         5.615552\n",
       "BRK.A     123.953772\n",
       "CMCSA      25.437426\n",
       "COST       36.625597\n",
       "CRM       409.705256\n",
       "CSCO             NaN\n",
       "CVX              NaN\n",
       "DHR        47.856055\n",
       "DIS              NaN\n",
       "FB        573.864141\n",
       "GOOG      805.807362\n",
       "HD               NaN\n",
       "HON         9.378287\n",
       "INTC       25.342825\n",
       "JNJ              NaN\n",
       "JPM        46.020477\n",
       "KO               NaN\n",
       "LLY              NaN\n",
       "MA          4.080933\n",
       "MCD              NaN\n",
       "MDT              NaN\n",
       "MRK              NaN\n",
       "MSFT       77.459247\n",
       "NEE         6.657842\n",
       "NFLX     1554.416928\n",
       "NKE              NaN\n",
       "NVDA      246.094877\n",
       "ORCL             NaN\n",
       "PEP              NaN\n",
       "PFE              NaN\n",
       "PG               NaN\n",
       "PYPL       17.216987\n",
       "QCOM             NaN\n",
       "T           3.596209\n",
       "TMO        71.050466\n",
       "TSLA             NaN\n",
       "TXN              NaN\n",
       "UNH       163.978198\n",
       "UPS              NaN\n",
       "V          27.153510\n",
       "VZ               NaN\n",
       "WMT         3.268482\n",
       "XOM              NaN\n",
       "dtype: float64"
      ]
     },
     "execution_count": 17,
     "metadata": {},
     "output_type": "execute_result"
    }
   ],
   "source": [
    "price"
   ]
  },
  {
   "cell_type": "code",
   "execution_count": null,
   "metadata": {},
   "outputs": [],
   "source": []
  }
 ],
 "metadata": {
  "kernelspec": {
   "display_name": "Python 3",
   "language": "python",
   "name": "python3"
  },
  "language_info": {
   "codemirror_mode": {
    "name": "ipython",
    "version": 3
   },
   "file_extension": ".py",
   "mimetype": "text/x-python",
   "name": "python",
   "nbconvert_exporter": "python",
   "pygments_lexer": "ipython3",
   "version": "3.7.3"
  }
 },
 "nbformat": 4,
 "nbformat_minor": 4
}
