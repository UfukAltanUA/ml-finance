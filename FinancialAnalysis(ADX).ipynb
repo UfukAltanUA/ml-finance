{
 "cells": [
  {
   "cell_type": "code",
   "execution_count": 47,
   "metadata": {},
   "outputs": [],
   "source": [
    "import pandas_datareader as pdr\n",
    "import datetime as dt\n",
    "import numpy as np\n",
    "import pandas as pd"
   ]
  },
  {
   "cell_type": "code",
   "execution_count": 50,
   "metadata": {},
   "outputs": [],
   "source": [
    "ticker = ['AAPL', 'FB']"
   ]
  },
  {
   "cell_type": "code",
   "execution_count": 51,
   "metadata": {},
   "outputs": [],
   "source": [
    "start = dt.datetime(2018, 1, 1)\n",
    "end = dt.datetime(2020, 1, 1)"
   ]
  },
  {
   "cell_type": "code",
   "execution_count": 52,
   "metadata": {},
   "outputs": [],
   "source": [
    "aapl = web.DataReader(ticker, 'yahoo', start, end)\n",
    "aapl = pdr.get_data_yahoo(tickers, start, end)"
   ]
  },
  {
   "cell_type": "code",
   "execution_count": 40,
   "metadata": {},
   "outputs": [
    {
     "data": {
      "text/html": [
       "<div>\n",
       "<style scoped>\n",
       "    .dataframe tbody tr th:only-of-type {\n",
       "        vertical-align: middle;\n",
       "    }\n",
       "\n",
       "    .dataframe tbody tr th {\n",
       "        vertical-align: top;\n",
       "    }\n",
       "\n",
       "    .dataframe thead tr th {\n",
       "        text-align: left;\n",
       "    }\n",
       "\n",
       "    .dataframe thead tr:last-of-type th {\n",
       "        text-align: right;\n",
       "    }\n",
       "</style>\n",
       "<table border=\"1\" class=\"dataframe\">\n",
       "  <thead>\n",
       "    <tr>\n",
       "      <th>Attributes</th>\n",
       "      <th>Adj Close</th>\n",
       "      <th>Close</th>\n",
       "      <th>High</th>\n",
       "      <th>Low</th>\n",
       "      <th>Open</th>\n",
       "      <th>Volume</th>\n",
       "    </tr>\n",
       "    <tr>\n",
       "      <th>Symbols</th>\n",
       "      <th>AAPL</th>\n",
       "      <th>AAPL</th>\n",
       "      <th>AAPL</th>\n",
       "      <th>AAPL</th>\n",
       "      <th>AAPL</th>\n",
       "      <th>AAPL</th>\n",
       "    </tr>\n",
       "    <tr>\n",
       "      <th>Date</th>\n",
       "      <th></th>\n",
       "      <th></th>\n",
       "      <th></th>\n",
       "      <th></th>\n",
       "      <th></th>\n",
       "      <th></th>\n",
       "    </tr>\n",
       "  </thead>\n",
       "  <tbody>\n",
       "    <tr>\n",
       "      <th>2018-01-02</th>\n",
       "      <td>41.310070</td>\n",
       "      <td>43.064999</td>\n",
       "      <td>43.075001</td>\n",
       "      <td>42.314999</td>\n",
       "      <td>42.540001</td>\n",
       "      <td>102223600.0</td>\n",
       "    </tr>\n",
       "    <tr>\n",
       "      <th>2018-01-03</th>\n",
       "      <td>41.302879</td>\n",
       "      <td>43.057499</td>\n",
       "      <td>43.637501</td>\n",
       "      <td>42.990002</td>\n",
       "      <td>43.132500</td>\n",
       "      <td>118071600.0</td>\n",
       "    </tr>\n",
       "    <tr>\n",
       "      <th>2018-01-04</th>\n",
       "      <td>41.494736</td>\n",
       "      <td>43.257500</td>\n",
       "      <td>43.367500</td>\n",
       "      <td>43.020000</td>\n",
       "      <td>43.134998</td>\n",
       "      <td>89738400.0</td>\n",
       "    </tr>\n",
       "    <tr>\n",
       "      <th>2018-01-05</th>\n",
       "      <td>41.967163</td>\n",
       "      <td>43.750000</td>\n",
       "      <td>43.842499</td>\n",
       "      <td>43.262501</td>\n",
       "      <td>43.360001</td>\n",
       "      <td>94640000.0</td>\n",
       "    </tr>\n",
       "    <tr>\n",
       "      <th>2018-01-08</th>\n",
       "      <td>41.811283</td>\n",
       "      <td>43.587502</td>\n",
       "      <td>43.902500</td>\n",
       "      <td>43.482498</td>\n",
       "      <td>43.587502</td>\n",
       "      <td>82271200.0</td>\n",
       "    </tr>\n",
       "  </tbody>\n",
       "</table>\n",
       "</div>"
      ],
      "text/plain": [
       "Attributes  Adj Close      Close       High        Low       Open       Volume\n",
       "Symbols          AAPL       AAPL       AAPL       AAPL       AAPL         AAPL\n",
       "Date                                                                          \n",
       "2018-01-02  41.310070  43.064999  43.075001  42.314999  42.540001  102223600.0\n",
       "2018-01-03  41.302879  43.057499  43.637501  42.990002  43.132500  118071600.0\n",
       "2018-01-04  41.494736  43.257500  43.367500  43.020000  43.134998   89738400.0\n",
       "2018-01-05  41.967163  43.750000  43.842499  43.262501  43.360001   94640000.0\n",
       "2018-01-08  41.811283  43.587502  43.902500  43.482498  43.587502   82271200.0"
      ]
     },
     "execution_count": 40,
     "metadata": {},
     "output_type": "execute_result"
    }
   ],
   "source": [
    "aapl.head()"
   ]
  },
  {
   "cell_type": "code",
   "execution_count": 41,
   "metadata": {},
   "outputs": [],
   "source": [
    "high = pd.Series(np.reshape(aapl['High'].values, (aapl.shape[0],)))\n",
    "low = pd.Series(np.reshape(aapl['Low'].values, (aapl.shape[0],)))\n",
    "close = pd.Series(np.reshape(aapl['Close'].values, (aapl.shape[0],)))"
   ]
  },
  {
   "cell_type": "code",
   "execution_count": 42,
   "metadata": {},
   "outputs": [
    {
     "name": "stderr",
     "output_type": "stream",
     "text": [
      "C:\\Anaconda3\\lib\\site-packages\\ta\\trend.py:768: RuntimeWarning: invalid value encountered in double_scalars\n",
      "  dip[i] = 100 * (self._dip[i] / self._trs[i])\n",
      "C:\\Anaconda3\\lib\\site-packages\\ta\\trend.py:772: RuntimeWarning: invalid value encountered in double_scalars\n",
      "  din[i] = 100 * (self._din[i] / self._trs[i])\n"
     ]
    }
   ],
   "source": [
    "from ta.trend import ADXIndicator\n",
    "adxI = ADXIndicator(high, low, close, 14, True)\n",
    "pos = adxI.adx_pos()\n",
    "neg = adxI.adx_neg()\n",
    "adx = adxI.adx()"
   ]
  },
  {
   "cell_type": "code",
   "execution_count": 43,
   "metadata": {},
   "outputs": [],
   "source": [
    "aapl['-DI'] = list(neg)\n",
    "aapl['+DI'] = list(pos)\n",
    "aapl['ADX'] = list(adx)"
   ]
  },
  {
   "cell_type": "code",
   "execution_count": 44,
   "metadata": {},
   "outputs": [
    {
     "data": {
      "text/plain": [
       "Attributes  Symbols\n",
       "Adj Close   AAPL       0\n",
       "Close       AAPL       0\n",
       "High        AAPL       0\n",
       "Low         AAPL       0\n",
       "Open        AAPL       0\n",
       "Volume      AAPL       0\n",
       "-DI                    0\n",
       "+DI                    0\n",
       "ADX                    0\n",
       "dtype: int64"
      ]
     },
     "execution_count": 44,
     "metadata": {},
     "output_type": "execute_result"
    }
   ],
   "source": [
    "aapl.isnull().sum()"
   ]
  },
  {
   "cell_type": "code",
   "execution_count": 45,
   "metadata": {},
   "outputs": [
    {
     "data": {
      "text/html": [
       "<div>\n",
       "<style scoped>\n",
       "    .dataframe tbody tr th:only-of-type {\n",
       "        vertical-align: middle;\n",
       "    }\n",
       "\n",
       "    .dataframe tbody tr th {\n",
       "        vertical-align: top;\n",
       "    }\n",
       "\n",
       "    .dataframe thead tr th {\n",
       "        text-align: left;\n",
       "    }\n",
       "\n",
       "    .dataframe thead tr:last-of-type th {\n",
       "        text-align: right;\n",
       "    }\n",
       "</style>\n",
       "<table border=\"1\" class=\"dataframe\">\n",
       "  <thead>\n",
       "    <tr>\n",
       "      <th>Attributes</th>\n",
       "      <th>Adj Close</th>\n",
       "      <th>Close</th>\n",
       "      <th>High</th>\n",
       "      <th>Low</th>\n",
       "      <th>Open</th>\n",
       "      <th>Volume</th>\n",
       "      <th>-DI</th>\n",
       "      <th>+DI</th>\n",
       "      <th>ADX</th>\n",
       "    </tr>\n",
       "    <tr>\n",
       "      <th>Symbols</th>\n",
       "      <th>AAPL</th>\n",
       "      <th>AAPL</th>\n",
       "      <th>AAPL</th>\n",
       "      <th>AAPL</th>\n",
       "      <th>AAPL</th>\n",
       "      <th>AAPL</th>\n",
       "      <th></th>\n",
       "      <th></th>\n",
       "      <th></th>\n",
       "    </tr>\n",
       "    <tr>\n",
       "      <th>Date</th>\n",
       "      <th></th>\n",
       "      <th></th>\n",
       "      <th></th>\n",
       "      <th></th>\n",
       "      <th></th>\n",
       "      <th></th>\n",
       "      <th></th>\n",
       "      <th></th>\n",
       "      <th></th>\n",
       "    </tr>\n",
       "  </thead>\n",
       "  <tbody>\n",
       "    <tr>\n",
       "      <th>2019-12-24</th>\n",
       "      <td>70.234581</td>\n",
       "      <td>71.067497</td>\n",
       "      <td>71.222504</td>\n",
       "      <td>70.730003</td>\n",
       "      <td>71.172501</td>\n",
       "      <td>48478800.0</td>\n",
       "      <td>11.633980</td>\n",
       "      <td>35.306879</td>\n",
       "      <td>33.984310</td>\n",
       "    </tr>\n",
       "    <tr>\n",
       "      <th>2019-12-26</th>\n",
       "      <td>71.628067</td>\n",
       "      <td>72.477501</td>\n",
       "      <td>72.495003</td>\n",
       "      <td>71.175003</td>\n",
       "      <td>71.205002</td>\n",
       "      <td>93121200.0</td>\n",
       "      <td>10.460011</td>\n",
       "      <td>40.739251</td>\n",
       "      <td>35.781144</td>\n",
       "    </tr>\n",
       "    <tr>\n",
       "      <th>2019-12-27</th>\n",
       "      <td>71.600876</td>\n",
       "      <td>72.449997</td>\n",
       "      <td>73.492500</td>\n",
       "      <td>72.029999</td>\n",
       "      <td>72.779999</td>\n",
       "      <td>146266000.0</td>\n",
       "      <td>9.412114</td>\n",
       "      <td>43.490793</td>\n",
       "      <td>37.826591</td>\n",
       "    </tr>\n",
       "    <tr>\n",
       "      <th>2019-12-30</th>\n",
       "      <td>72.025833</td>\n",
       "      <td>72.879997</td>\n",
       "      <td>73.172501</td>\n",
       "      <td>71.305000</td>\n",
       "      <td>72.364998</td>\n",
       "      <td>144114400.0</td>\n",
       "      <td>12.973137</td>\n",
       "      <td>38.224795</td>\n",
       "      <td>38.647666</td>\n",
       "    </tr>\n",
       "    <tr>\n",
       "      <th>2019-12-31</th>\n",
       "      <td>72.552094</td>\n",
       "      <td>73.412498</td>\n",
       "      <td>73.419998</td>\n",
       "      <td>72.379997</td>\n",
       "      <td>72.482498</td>\n",
       "      <td>100805600.0</td>\n",
       "      <td>12.094840</td>\n",
       "      <td>37.248072</td>\n",
       "      <td>39.528289</td>\n",
       "    </tr>\n",
       "  </tbody>\n",
       "</table>\n",
       "</div>"
      ],
      "text/plain": [
       "Attributes  Adj Close      Close       High        Low       Open  \\\n",
       "Symbols          AAPL       AAPL       AAPL       AAPL       AAPL   \n",
       "Date                                                                \n",
       "2019-12-24  70.234581  71.067497  71.222504  70.730003  71.172501   \n",
       "2019-12-26  71.628067  72.477501  72.495003  71.175003  71.205002   \n",
       "2019-12-27  71.600876  72.449997  73.492500  72.029999  72.779999   \n",
       "2019-12-30  72.025833  72.879997  73.172501  71.305000  72.364998   \n",
       "2019-12-31  72.552094  73.412498  73.419998  72.379997  72.482498   \n",
       "\n",
       "Attributes       Volume        -DI        +DI        ADX  \n",
       "Symbols            AAPL                                   \n",
       "Date                                                      \n",
       "2019-12-24   48478800.0  11.633980  35.306879  33.984310  \n",
       "2019-12-26   93121200.0  10.460011  40.739251  35.781144  \n",
       "2019-12-27  146266000.0   9.412114  43.490793  37.826591  \n",
       "2019-12-30  144114400.0  12.973137  38.224795  38.647666  \n",
       "2019-12-31  100805600.0  12.094840  37.248072  39.528289  "
      ]
     },
     "execution_count": 45,
     "metadata": {},
     "output_type": "execute_result"
    }
   ],
   "source": [
    "aapl.tail()"
   ]
  },
  {
   "cell_type": "code",
   "execution_count": 57,
   "metadata": {},
   "outputs": [],
   "source": [
    "df = aapl"
   ]
  },
  {
   "cell_type": "code",
   "execution_count": 58,
   "metadata": {},
   "outputs": [],
   "source": [
    "close = df['Close']\n",
    "high = df['High']\n",
    "low = df['Low']\n",
    "volume = df['Volume']"
   ]
  },
  {
   "cell_type": "code",
   "execution_count": 69,
   "metadata": {},
   "outputs": [],
   "source": [
    "from ta.trend import ADXIndicator\n",
    "\n",
    "def average_directional_index(dataset, ticker):\n",
    "\n",
    "    high = pd.Series(np.reshape(df['High'][ticker].values, (df.shape[0],)))\n",
    "    low = pd.Series(np.reshape(df['Low'][ticker].values, (df.shape[0],)))\n",
    "    close = pd.Series(np.reshape(df['Close'][ticker].values, (df.shape[0],)))\n",
    "\n",
    "    adxI = ADXIndicator(high, low, close, 14, True)\n",
    "    pos = adxI.adx_pos()\n",
    "    neg = adxI.adx_neg()\n",
    "    adx = adxI.adx()\n",
    "\n",
    "    dataset['-DI'] = list(neg)\n",
    "    dataset['+DI'] = list(pos)\n",
    "    dataset['ADX'] = list(adx)"
   ]
  },
  {
   "cell_type": "code",
   "execution_count": null,
   "metadata": {},
   "outputs": [],
   "source": []
  },
  {
   "cell_type": "code",
   "execution_count": null,
   "metadata": {},
   "outputs": [],
   "source": []
  }
 ],
 "metadata": {
  "kernelspec": {
   "display_name": "Python 3",
   "language": "python",
   "name": "python3"
  },
  "language_info": {
   "codemirror_mode": {
    "name": "ipython",
    "version": 3
   },
   "file_extension": ".py",
   "mimetype": "text/x-python",
   "name": "python",
   "nbconvert_exporter": "python",
   "pygments_lexer": "ipython3",
   "version": "3.7.3"
  }
 },
 "nbformat": 4,
 "nbformat_minor": 4
}
