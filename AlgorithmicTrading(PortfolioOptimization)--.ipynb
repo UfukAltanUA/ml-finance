{
 "cells": [
  {
   "cell_type": "code",
   "execution_count": 1,
   "metadata": {},
   "outputs": [],
   "source": [
    "import numpy as np\n",
    "import pandas as pd\n",
    "import matplotlib.pyplot as plt"
   ]
  },
  {
   "cell_type": "code",
   "execution_count": 2,
   "metadata": {},
   "outputs": [],
   "source": [
    "import pandas_datareader.data as web\n",
    "import datetime"
   ]
  },
  {
   "cell_type": "code",
   "execution_count": 3,
   "metadata": {},
   "outputs": [],
   "source": [
    "start = datetime.datetime(2020,5,1)\n",
    "end = datetime.datetime(2021,5,1)"
   ]
  },
  {
   "cell_type": "code",
   "execution_count": 4,
   "metadata": {},
   "outputs": [],
   "source": [
    "apple = web.DataReader('AAPL', 'yahoo', start, end)\n",
    "cisco = web.DataReader('CSCO', 'yahoo', start, end)\n",
    "ibm = web.DataReader('IBM', 'yahoo', start, end)\n",
    "amazon = web.DataReader('AMZN', 'yahoo', start, end)"
   ]
  },
  {
   "cell_type": "code",
   "execution_count": 5,
   "metadata": {},
   "outputs": [],
   "source": [
    "stocks = pd.concat([apple['Close'], cisco['Close'], ibm['Close'], amazon['Close']], axis = 1)\n",
    "stocks.columns = ['APPLE', 'CISCO', 'IBM', 'AMAZON']"
   ]
  },
  {
   "cell_type": "code",
   "execution_count": 6,
   "metadata": {},
   "outputs": [
    {
     "data": {
      "text/html": [
       "<div>\n",
       "<style scoped>\n",
       "    .dataframe tbody tr th:only-of-type {\n",
       "        vertical-align: middle;\n",
       "    }\n",
       "\n",
       "    .dataframe tbody tr th {\n",
       "        vertical-align: top;\n",
       "    }\n",
       "\n",
       "    .dataframe thead th {\n",
       "        text-align: right;\n",
       "    }\n",
       "</style>\n",
       "<table border=\"1\" class=\"dataframe\">\n",
       "  <thead>\n",
       "    <tr style=\"text-align: right;\">\n",
       "      <th></th>\n",
       "      <th>APPLE</th>\n",
       "      <th>CISCO</th>\n",
       "      <th>IBM</th>\n",
       "      <th>AMAZON</th>\n",
       "    </tr>\n",
       "    <tr>\n",
       "      <th>Date</th>\n",
       "      <th></th>\n",
       "      <th></th>\n",
       "      <th></th>\n",
       "      <th></th>\n",
       "    </tr>\n",
       "  </thead>\n",
       "  <tbody>\n",
       "    <tr>\n",
       "      <th>2020-05-01</th>\n",
       "      <td>72.267502</td>\n",
       "      <td>40.919998</td>\n",
       "      <td>121.870003</td>\n",
       "      <td>2286.040039</td>\n",
       "    </tr>\n",
       "    <tr>\n",
       "      <th>2020-05-04</th>\n",
       "      <td>73.290001</td>\n",
       "      <td>41.349998</td>\n",
       "      <td>121.680000</td>\n",
       "      <td>2315.989990</td>\n",
       "    </tr>\n",
       "    <tr>\n",
       "      <th>2020-05-05</th>\n",
       "      <td>74.389999</td>\n",
       "      <td>41.459999</td>\n",
       "      <td>122.580002</td>\n",
       "      <td>2317.800049</td>\n",
       "    </tr>\n",
       "    <tr>\n",
       "      <th>2020-05-06</th>\n",
       "      <td>75.157501</td>\n",
       "      <td>41.150002</td>\n",
       "      <td>123.169998</td>\n",
       "      <td>2351.260010</td>\n",
       "    </tr>\n",
       "    <tr>\n",
       "      <th>2020-05-07</th>\n",
       "      <td>75.934998</td>\n",
       "      <td>41.369999</td>\n",
       "      <td>121.230003</td>\n",
       "      <td>2367.610107</td>\n",
       "    </tr>\n",
       "    <tr>\n",
       "      <th>...</th>\n",
       "      <td>...</td>\n",
       "      <td>...</td>\n",
       "      <td>...</td>\n",
       "      <td>...</td>\n",
       "    </tr>\n",
       "    <tr>\n",
       "      <th>2021-04-26</th>\n",
       "      <td>134.720001</td>\n",
       "      <td>51.639999</td>\n",
       "      <td>141.570007</td>\n",
       "      <td>3409.000000</td>\n",
       "    </tr>\n",
       "    <tr>\n",
       "      <th>2021-04-27</th>\n",
       "      <td>134.389999</td>\n",
       "      <td>51.369999</td>\n",
       "      <td>142.009995</td>\n",
       "      <td>3417.429932</td>\n",
       "    </tr>\n",
       "    <tr>\n",
       "      <th>2021-04-28</th>\n",
       "      <td>133.580002</td>\n",
       "      <td>51.110001</td>\n",
       "      <td>143.000000</td>\n",
       "      <td>3458.500000</td>\n",
       "    </tr>\n",
       "    <tr>\n",
       "      <th>2021-04-29</th>\n",
       "      <td>133.479996</td>\n",
       "      <td>51.459999</td>\n",
       "      <td>144.240005</td>\n",
       "      <td>3471.310059</td>\n",
       "    </tr>\n",
       "    <tr>\n",
       "      <th>2021-04-30</th>\n",
       "      <td>131.460007</td>\n",
       "      <td>50.910000</td>\n",
       "      <td>141.880005</td>\n",
       "      <td>3467.419922</td>\n",
       "    </tr>\n",
       "  </tbody>\n",
       "</table>\n",
       "<p>252 rows × 4 columns</p>\n",
       "</div>"
      ],
      "text/plain": [
       "                 APPLE      CISCO         IBM       AMAZON\n",
       "Date                                                      \n",
       "2020-05-01   72.267502  40.919998  121.870003  2286.040039\n",
       "2020-05-04   73.290001  41.349998  121.680000  2315.989990\n",
       "2020-05-05   74.389999  41.459999  122.580002  2317.800049\n",
       "2020-05-06   75.157501  41.150002  123.169998  2351.260010\n",
       "2020-05-07   75.934998  41.369999  121.230003  2367.610107\n",
       "...                ...        ...         ...          ...\n",
       "2021-04-26  134.720001  51.639999  141.570007  3409.000000\n",
       "2021-04-27  134.389999  51.369999  142.009995  3417.429932\n",
       "2021-04-28  133.580002  51.110001  143.000000  3458.500000\n",
       "2021-04-29  133.479996  51.459999  144.240005  3471.310059\n",
       "2021-04-30  131.460007  50.910000  141.880005  3467.419922\n",
       "\n",
       "[252 rows x 4 columns]"
      ]
     },
     "execution_count": 6,
     "metadata": {},
     "output_type": "execute_result"
    }
   ],
   "source": [
    "stocks"
   ]
  },
  {
   "cell_type": "code",
   "execution_count": 7,
   "metadata": {},
   "outputs": [
    {
     "data": {
      "text/plain": [
       "APPLE     0.002628\n",
       "CISCO     0.001011\n",
       "IBM       0.000768\n",
       "AMAZON    0.001852\n",
       "dtype: float64"
      ]
     },
     "execution_count": 7,
     "metadata": {},
     "output_type": "execute_result"
    }
   ],
   "source": [
    "stocks.pct_change(1).mean()"
   ]
  },
  {
   "cell_type": "code",
   "execution_count": 8,
   "metadata": {},
   "outputs": [
    {
     "data": {
      "text/html": [
       "<div>\n",
       "<style scoped>\n",
       "    .dataframe tbody tr th:only-of-type {\n",
       "        vertical-align: middle;\n",
       "    }\n",
       "\n",
       "    .dataframe tbody tr th {\n",
       "        vertical-align: top;\n",
       "    }\n",
       "\n",
       "    .dataframe thead th {\n",
       "        text-align: right;\n",
       "    }\n",
       "</style>\n",
       "<table border=\"1\" class=\"dataframe\">\n",
       "  <thead>\n",
       "    <tr style=\"text-align: right;\">\n",
       "      <th></th>\n",
       "      <th>APPLE</th>\n",
       "      <th>CISCO</th>\n",
       "      <th>IBM</th>\n",
       "      <th>AMAZON</th>\n",
       "    </tr>\n",
       "  </thead>\n",
       "  <tbody>\n",
       "    <tr>\n",
       "      <th>APPLE</th>\n",
       "      <td>1.000000</td>\n",
       "      <td>0.326440</td>\n",
       "      <td>0.139329</td>\n",
       "      <td>0.692667</td>\n",
       "    </tr>\n",
       "    <tr>\n",
       "      <th>CISCO</th>\n",
       "      <td>0.326440</td>\n",
       "      <td>1.000000</td>\n",
       "      <td>0.512666</td>\n",
       "      <td>0.252156</td>\n",
       "    </tr>\n",
       "    <tr>\n",
       "      <th>IBM</th>\n",
       "      <td>0.139329</td>\n",
       "      <td>0.512666</td>\n",
       "      <td>1.000000</td>\n",
       "      <td>0.061743</td>\n",
       "    </tr>\n",
       "    <tr>\n",
       "      <th>AMAZON</th>\n",
       "      <td>0.692667</td>\n",
       "      <td>0.252156</td>\n",
       "      <td>0.061743</td>\n",
       "      <td>1.000000</td>\n",
       "    </tr>\n",
       "  </tbody>\n",
       "</table>\n",
       "</div>"
      ],
      "text/plain": [
       "           APPLE     CISCO       IBM    AMAZON\n",
       "APPLE   1.000000  0.326440  0.139329  0.692667\n",
       "CISCO   0.326440  1.000000  0.512666  0.252156\n",
       "IBM     0.139329  0.512666  1.000000  0.061743\n",
       "AMAZON  0.692667  0.252156  0.061743  1.000000"
      ]
     },
     "execution_count": 8,
     "metadata": {},
     "output_type": "execute_result"
    }
   ],
   "source": [
    "stocks.pct_change(1).corr()"
   ]
  },
  {
   "cell_type": "code",
   "execution_count": 9,
   "metadata": {},
   "outputs": [
    {
     "data": {
      "text/html": [
       "<div>\n",
       "<style scoped>\n",
       "    .dataframe tbody tr th:only-of-type {\n",
       "        vertical-align: middle;\n",
       "    }\n",
       "\n",
       "    .dataframe tbody tr th {\n",
       "        vertical-align: top;\n",
       "    }\n",
       "\n",
       "    .dataframe thead th {\n",
       "        text-align: right;\n",
       "    }\n",
       "</style>\n",
       "<table border=\"1\" class=\"dataframe\">\n",
       "  <thead>\n",
       "    <tr style=\"text-align: right;\">\n",
       "      <th></th>\n",
       "      <th>APPLE</th>\n",
       "      <th>CISCO</th>\n",
       "      <th>IBM</th>\n",
       "      <th>AMAZON</th>\n",
       "    </tr>\n",
       "    <tr>\n",
       "      <th>Date</th>\n",
       "      <th></th>\n",
       "      <th></th>\n",
       "      <th></th>\n",
       "      <th></th>\n",
       "    </tr>\n",
       "  </thead>\n",
       "  <tbody>\n",
       "    <tr>\n",
       "      <th>2020-05-01</th>\n",
       "      <td>NaN</td>\n",
       "      <td>NaN</td>\n",
       "      <td>NaN</td>\n",
       "      <td>NaN</td>\n",
       "    </tr>\n",
       "    <tr>\n",
       "      <th>2020-05-04</th>\n",
       "      <td>0.014149</td>\n",
       "      <td>0.010508</td>\n",
       "      <td>-0.001559</td>\n",
       "      <td>0.013101</td>\n",
       "    </tr>\n",
       "    <tr>\n",
       "      <th>2020-05-05</th>\n",
       "      <td>0.015009</td>\n",
       "      <td>0.002660</td>\n",
       "      <td>0.007396</td>\n",
       "      <td>0.000782</td>\n",
       "    </tr>\n",
       "    <tr>\n",
       "      <th>2020-05-06</th>\n",
       "      <td>0.010317</td>\n",
       "      <td>-0.007477</td>\n",
       "      <td>0.004813</td>\n",
       "      <td>0.014436</td>\n",
       "    </tr>\n",
       "    <tr>\n",
       "      <th>2020-05-07</th>\n",
       "      <td>0.010345</td>\n",
       "      <td>0.005346</td>\n",
       "      <td>-0.015751</td>\n",
       "      <td>0.006954</td>\n",
       "    </tr>\n",
       "  </tbody>\n",
       "</table>\n",
       "</div>"
      ],
      "text/plain": [
       "               APPLE     CISCO       IBM    AMAZON\n",
       "Date                                              \n",
       "2020-05-01       NaN       NaN       NaN       NaN\n",
       "2020-05-04  0.014149  0.010508 -0.001559  0.013101\n",
       "2020-05-05  0.015009  0.002660  0.007396  0.000782\n",
       "2020-05-06  0.010317 -0.007477  0.004813  0.014436\n",
       "2020-05-07  0.010345  0.005346 -0.015751  0.006954"
      ]
     },
     "execution_count": 9,
     "metadata": {},
     "output_type": "execute_result"
    }
   ],
   "source": [
    "stocks.pct_change(1).head()"
   ]
  },
  {
   "cell_type": "code",
   "execution_count": 10,
   "metadata": {},
   "outputs": [
    {
     "data": {
      "text/html": [
       "<div>\n",
       "<style scoped>\n",
       "    .dataframe tbody tr th:only-of-type {\n",
       "        vertical-align: middle;\n",
       "    }\n",
       "\n",
       "    .dataframe tbody tr th {\n",
       "        vertical-align: top;\n",
       "    }\n",
       "\n",
       "    .dataframe thead th {\n",
       "        text-align: right;\n",
       "    }\n",
       "</style>\n",
       "<table border=\"1\" class=\"dataframe\">\n",
       "  <thead>\n",
       "    <tr style=\"text-align: right;\">\n",
       "      <th></th>\n",
       "      <th>APPLE</th>\n",
       "      <th>CISCO</th>\n",
       "      <th>IBM</th>\n",
       "      <th>AMAZON</th>\n",
       "    </tr>\n",
       "    <tr>\n",
       "      <th>Date</th>\n",
       "      <th></th>\n",
       "      <th></th>\n",
       "      <th></th>\n",
       "      <th></th>\n",
       "    </tr>\n",
       "  </thead>\n",
       "  <tbody>\n",
       "    <tr>\n",
       "      <th>2020-05-01</th>\n",
       "      <td>NaN</td>\n",
       "      <td>NaN</td>\n",
       "      <td>NaN</td>\n",
       "      <td>NaN</td>\n",
       "    </tr>\n",
       "    <tr>\n",
       "      <th>2020-05-04</th>\n",
       "      <td>0.014050</td>\n",
       "      <td>0.010453</td>\n",
       "      <td>-0.001560</td>\n",
       "      <td>0.013016</td>\n",
       "    </tr>\n",
       "    <tr>\n",
       "      <th>2020-05-05</th>\n",
       "      <td>0.014897</td>\n",
       "      <td>0.002657</td>\n",
       "      <td>0.007369</td>\n",
       "      <td>0.000781</td>\n",
       "    </tr>\n",
       "    <tr>\n",
       "      <th>2020-05-06</th>\n",
       "      <td>0.010264</td>\n",
       "      <td>-0.007505</td>\n",
       "      <td>0.004802</td>\n",
       "      <td>0.014333</td>\n",
       "    </tr>\n",
       "    <tr>\n",
       "      <th>2020-05-07</th>\n",
       "      <td>0.010292</td>\n",
       "      <td>0.005332</td>\n",
       "      <td>-0.015876</td>\n",
       "      <td>0.006930</td>\n",
       "    </tr>\n",
       "  </tbody>\n",
       "</table>\n",
       "</div>"
      ],
      "text/plain": [
       "               APPLE     CISCO       IBM    AMAZON\n",
       "Date                                              \n",
       "2020-05-01       NaN       NaN       NaN       NaN\n",
       "2020-05-04  0.014050  0.010453 -0.001560  0.013016\n",
       "2020-05-05  0.014897  0.002657  0.007369  0.000781\n",
       "2020-05-06  0.010264 -0.007505  0.004802  0.014333\n",
       "2020-05-07  0.010292  0.005332 -0.015876  0.006930"
      ]
     },
     "execution_count": 10,
     "metadata": {},
     "output_type": "execute_result"
    }
   ],
   "source": [
    "log_ret = np.log(stocks/stocks.shift(1))\n",
    "log_ret.head()"
   ]
  },
  {
   "cell_type": "code",
   "execution_count": 11,
   "metadata": {},
   "outputs": [],
   "source": [
    "# Daily returns, do it for 1 month, 4 months and 12 months"
   ]
  },
  {
   "cell_type": "code",
   "execution_count": 12,
   "metadata": {},
   "outputs": [
    {
     "data": {
      "image/png": "[encoded data removed]",
      "text/plain": [
       "<Figure size 864x576 with 4 Axes>"
      ]
     },
     "metadata": {
      "needs_background": "light"
     },
     "output_type": "display_data"
    }
   ],
   "source": [
    "log_ret.hist(bins = 100, figsize = (12,8))\n",
    "plt.tight_layout()"
   ]
  },
  {
   "cell_type": "code",
   "execution_count": 13,
   "metadata": {},
   "outputs": [
    {
     "data": {
      "text/html": [
       "<div>\n",
       "<style scoped>\n",
       "    .dataframe tbody tr th:only-of-type {\n",
       "        vertical-align: middle;\n",
       "    }\n",
       "\n",
       "    .dataframe tbody tr th {\n",
       "        vertical-align: top;\n",
       "    }\n",
       "\n",
       "    .dataframe thead th {\n",
       "        text-align: right;\n",
       "    }\n",
       "</style>\n",
       "<table border=\"1\" class=\"dataframe\">\n",
       "  <thead>\n",
       "    <tr style=\"text-align: right;\">\n",
       "      <th></th>\n",
       "      <th>APPLE</th>\n",
       "      <th>CISCO</th>\n",
       "      <th>IBM</th>\n",
       "      <th>AMAZON</th>\n",
       "    </tr>\n",
       "  </thead>\n",
       "  <tbody>\n",
       "    <tr>\n",
       "      <th>APPLE</th>\n",
       "      <td>0.121906</td>\n",
       "      <td>0.030454</td>\n",
       "      <td>0.014274</td>\n",
       "      <td>0.075768</td>\n",
       "    </tr>\n",
       "    <tr>\n",
       "      <th>CISCO</th>\n",
       "      <td>0.030454</td>\n",
       "      <td>0.071405</td>\n",
       "      <td>0.039247</td>\n",
       "      <td>0.020982</td>\n",
       "    </tr>\n",
       "    <tr>\n",
       "      <th>IBM</th>\n",
       "      <td>0.014274</td>\n",
       "      <td>0.039247</td>\n",
       "      <td>0.082517</td>\n",
       "      <td>0.005818</td>\n",
       "    </tr>\n",
       "    <tr>\n",
       "      <th>AMAZON</th>\n",
       "      <td>0.075768</td>\n",
       "      <td>0.020982</td>\n",
       "      <td>0.005818</td>\n",
       "      <td>0.096561</td>\n",
       "    </tr>\n",
       "  </tbody>\n",
       "</table>\n",
       "</div>"
      ],
      "text/plain": [
       "           APPLE     CISCO       IBM    AMAZON\n",
       "APPLE   0.121906  0.030454  0.014274  0.075768\n",
       "CISCO   0.030454  0.071405  0.039247  0.020982\n",
       "IBM     0.014274  0.039247  0.082517  0.005818\n",
       "AMAZON  0.075768  0.020982  0.005818  0.096561"
      ]
     },
     "execution_count": 13,
     "metadata": {},
     "output_type": "execute_result"
    }
   ],
   "source": [
    "log_ret.cov() * 252"
   ]
  },
  {
   "cell_type": "code",
   "execution_count": 14,
   "metadata": {},
   "outputs": [
    {
     "name": "stdout",
     "output_type": "stream",
     "text": [
      "Index(['APPLE', 'CISCO', 'IBM', 'AMAZON'], dtype='object')\n",
      "Random Weights:\n",
      "[0.51639863 0.57066759 0.02847423 0.17152166]\n",
      "Normalized\n",
      "[0.40122278 0.44338777 0.02212343 0.13326603]\n",
      "Expected Portfolio Return\n",
      "0.39737419688796355\n",
      "Expected Volatility\n",
      "0.24060841494621518\n",
      "Sharpe Ratio\n",
      "1.6515390659831715\n"
     ]
    }
   ],
   "source": [
    "np.random.seed(101)\n",
    "\n",
    "print(stocks.columns)\n",
    "\n",
    "weights = np.array(np.random.random(4))\n",
    "\n",
    "print('Random Weights:')\n",
    "print(weights)\n",
    "\n",
    "print('Normalized')\n",
    "weights = weights / np.sum(weights)\n",
    "print(weights)\n",
    "\n",
    "# Expected Return\n",
    "print('Expected Portfolio Return')\n",
    "exp_ret = np.sum( (log_ret.mean() * weights) * 252)\n",
    "print(exp_ret)\n",
    "\n",
    "# Expected Volatility\n",
    "print('Expected Volatility')\n",
    "exp_vol = np.sqrt(np.dot(weights.T, np.dot( log_ret.cov() * 252, weights)))\n",
    "print(exp_vol)\n",
    "\n",
    "# Sharpe Ratio\n",
    "print('Sharpe Ratio')\n",
    "SR = exp_ret / exp_vol\n",
    "print(SR)"
   ]
  },
  {
   "cell_type": "code",
   "execution_count": 15,
   "metadata": {},
   "outputs": [],
   "source": [
    "# Sharpe Ratio Graph ***"
   ]
  },
  {
   "cell_type": "code",
   "execution_count": 16,
   "metadata": {},
   "outputs": [],
   "source": [
    "np.random.seed(101)\n",
    "\n",
    "num_ports = 5000\n",
    "all_weights = np.zeros((num_ports, len(stocks.columns)))\n",
    "ret_arr = np.zeros(num_ports)\n",
    "vol_arr = np.zeros(num_ports)\n",
    "sharpe_arr = np.zeros(num_ports)\n",
    "\n",
    "for ind in range(num_ports):\n",
    "\n",
    "    # Weights\n",
    "    weights = np.array(np.random.random(4))\n",
    "    weights = weights / np.sum(weights)\n",
    "    \n",
    "    # Save Weights\n",
    "    all_weights[ind, :] = weights\n",
    "\n",
    "    # Expected Return\n",
    "    ret_arr[ind] = np.sum( (log_ret.mean() * weights) * 252)\n",
    "\n",
    "    # Expected Volatility\n",
    "    vol_arr[ind] = np.sqrt(np.dot(weights.T, np.dot( log_ret.cov() * 252, weights)))\n",
    "\n",
    "    # Sharpe Ratio\n",
    "    sharpe_arr[ind] = ret_arr[ind] / vol_arr[ind]"
   ]
  },
  {
   "cell_type": "code",
   "execution_count": 17,
   "metadata": {},
   "outputs": [
    {
     "data": {
      "text/plain": [
       "(1.7618431179430216, 809)"
      ]
     },
     "execution_count": 17,
     "metadata": {},
     "output_type": "execute_result"
    }
   ],
   "source": [
    "sharpe_arr.max(), sharpe_arr.argmax()"
   ]
  },
  {
   "cell_type": "code",
   "execution_count": 18,
   "metadata": {},
   "outputs": [
    {
     "data": {
      "text/plain": [
       "array([0.58552316, 0.10435794, 0.12899422, 0.18112467])"
      ]
     },
     "execution_count": 18,
     "metadata": {},
     "output_type": "execute_result"
    }
   ],
   "source": [
    "all_weights[sharpe_arr.argmax(), :]"
   ]
  },
  {
   "cell_type": "code",
   "execution_count": 19,
   "metadata": {},
   "outputs": [],
   "source": [
    "max_sr_ret = ret_arr[sharpe_arr.argmax()]\n",
    "max_sr_vol = vol_arr[sharpe_arr.argmax()]"
   ]
  },
  {
   "cell_type": "code",
   "execution_count": 20,
   "metadata": {},
   "outputs": [
    {
     "data": {
      "text/plain": [
       "<matplotlib.collections.PathCollection at 0x29344fcee48>"
      ]
     },
     "execution_count": 20,
     "metadata": {},
     "output_type": "execute_result"
    },
    {
     "data": {
      "image/png": "[encoded data removed]",
      "text/plain": [
       "<Figure size 864x576 with 2 Axes>"
      ]
     },
     "metadata": {
      "needs_background": "light"
     },
     "output_type": "display_data"
    }
   ],
   "source": [
    "plt.figure(figsize = (12,8))\n",
    "plt.scatter(vol_arr, ret_arr, c = sharpe_arr, cmap = 'plasma')\n",
    "plt.colorbar(label = 'Sharpe Ratio')\n",
    "plt.xlabel('Volatility')\n",
    "plt.ylabel('Return')\n",
    "\n",
    "plt.scatter(max_sr_vol, max_sr_ret, c = 'red', edgecolors = 'black')"
   ]
  },
  {
   "cell_type": "code",
   "execution_count": 21,
   "metadata": {},
   "outputs": [],
   "source": [
    "def get_ret_vol_sr(weights):\n",
    "    weights = np.array(weights)\n",
    "    ret = np.sum(log_ret.mean() * weights) * 252\n",
    "    vol = np.sqrt(np.dot(weights.T, np.dot(log_ret.cov() * 252, weights)))\n",
    "    sr = ret / vol\n",
    "    \n",
    "    return np.array([ret, vol, sr])"
   ]
  },
  {
   "cell_type": "code",
   "execution_count": 22,
   "metadata": {},
   "outputs": [],
   "source": [
    "from scipy.optimize import minimize"
   ]
  },
  {
   "cell_type": "code",
   "execution_count": 23,
   "metadata": {},
   "outputs": [],
   "source": [
    "def neg_sharpe(weights):\n",
    "    return get_ret_vol_sr(weights)[2] * -1"
   ]
  },
  {
   "cell_type": "code",
   "execution_count": 24,
   "metadata": {},
   "outputs": [],
   "source": [
    "def check_sum(weights):\n",
    "    return np.sum(weights) - 1"
   ]
  },
  {
   "cell_type": "code",
   "execution_count": 25,
   "metadata": {},
   "outputs": [],
   "source": [
    "constraints = [{'type': 'eq', 'fun': check_sum}]"
   ]
  },
  {
   "cell_type": "code",
   "execution_count": 26,
   "metadata": {},
   "outputs": [],
   "source": [
    "bounds = ((0,1),(0,1),(0,1),(0,1))"
   ]
  },
  {
   "cell_type": "code",
   "execution_count": 27,
   "metadata": {},
   "outputs": [],
   "source": [
    "init_guess = [0.25, 0.25, 0.25, 0.25]"
   ]
  },
  {
   "cell_type": "code",
   "execution_count": 28,
   "metadata": {},
   "outputs": [],
   "source": [
    "optimized_results = minimize(neg_sharpe, init_guess, method = 'SLSQP', bounds = bounds, constraints = constraints)"
   ]
  },
  {
   "cell_type": "code",
   "execution_count": 29,
   "metadata": {},
   "outputs": [
    {
     "data": {
      "text/plain": [
       "     fun: -1.763208201330475\n",
       "     jac: array([-4.68790531e-05,  2.24173069e-04, -4.56273556e-05,  9.54270363e-05])\n",
       " message: 'Optimization terminated successfully'\n",
       "    nfev: 35\n",
       "     nit: 7\n",
       "    njev: 7\n",
       "  status: 0\n",
       " success: True\n",
       "       x: array([0.63779128, 0.09649591, 0.12108536, 0.14462744])"
      ]
     },
     "execution_count": 29,
     "metadata": {},
     "output_type": "execute_result"
    }
   ],
   "source": [
    "optimized_results"
   ]
  },
  {
   "cell_type": "code",
   "execution_count": 30,
   "metadata": {},
   "outputs": [
    {
     "name": "stdout",
     "output_type": "stream",
     "text": [
      "0.637791283592799 0.096495914542189 0.12108536041774742 0.1446274414472647\n",
      "\n",
      "\n",
      "[0.58552316 0.10435794 0.12899422 0.18112467]\n"
     ]
    }
   ],
   "source": [
    "# Using OR\n",
    "print(optimized_results.x[0], optimized_results.x[1], optimized_results.x[2], optimized_results.x[3])\n",
    "print('\\n')\n",
    "\n",
    "# Trials\n",
    "print(all_weights[sharpe_arr.argmax(), :])"
   ]
  },
  {
   "cell_type": "code",
   "execution_count": 31,
   "metadata": {
    "scrolled": true
   },
   "outputs": [
    {
     "data": {
      "text/plain": [
       "array([0.48326331, 0.27408182, 1.7632082 ])"
      ]
     },
     "execution_count": 31,
     "metadata": {},
     "output_type": "execute_result"
    }
   ],
   "source": [
    "get_ret_vol_sr(optimized_results.x)"
   ]
  },
  {
   "cell_type": "code",
   "execution_count": 32,
   "metadata": {},
   "outputs": [
    {
     "data": {
      "text/plain": [
       "1.0"
      ]
     },
     "execution_count": 32,
     "metadata": {},
     "output_type": "execute_result"
    }
   ],
   "source": [
    "optimized_results.x.sum()"
   ]
  },
  {
   "cell_type": "code",
   "execution_count": 40,
   "metadata": {},
   "outputs": [
    {
     "data": {
      "text/plain": [
       "(0.5749587721059569, 0.1811058170287289)"
      ]
     },
     "execution_count": 40,
     "metadata": {},
     "output_type": "execute_result"
    }
   ],
   "source": [
    "ret_arr.max(), ret_arr.min()"
   ]
  },
  {
   "cell_type": "code",
   "execution_count": 42,
   "metadata": {},
   "outputs": [],
   "source": [
    "frontier_y = np.linspace(ret_arr.min(), ret_arr.max(), 100)"
   ]
  },
  {
   "cell_type": "code",
   "execution_count": 43,
   "metadata": {},
   "outputs": [],
   "source": [
    "def min_vol(weights):\n",
    "    return get_ret_vol_sr(weights)[1]"
   ]
  },
  {
   "cell_type": "code",
   "execution_count": 47,
   "metadata": {},
   "outputs": [],
   "source": [
    "frontier_vol = []\n",
    "\n",
    "for possible_return in frontier_y:\n",
    "    cons = ({'type': 'eq', 'fun': check_sum}, {'type': 'eq', 'fun': lambda w: get_ret_vol_sr(w)[0] - possible_return})\n",
    "    \n",
    "    result = minimize(min_vol, init_guess, method = 'SLSQP', bounds = bounds, constraints = constraints)\n",
    "    \n",
    "    frontier_vol.append(result['fun'])\n"
   ]
  },
  {
   "cell_type": "code",
   "execution_count": null,
   "metadata": {},
   "outputs": [],
   "source": [
    "# ------------------------------------------------------------------------------------------------------------------------"
   ]
  },
  {
   "cell_type": "code",
   "execution_count": 56,
   "metadata": {},
   "outputs": [
    {
     "data": {
      "text/plain": [
       "[<matplotlib.lines.Line2D at 0x2934807e908>]"
      ]
     },
     "execution_count": 56,
     "metadata": {},
     "output_type": "execute_result"
    },
    {
     "data": {
      "image/png": "[encoded data removed]",
      "text/plain": [
       "<Figure size 864x576 with 2 Axes>"
      ]
     },
     "metadata": {
      "needs_background": "light"
     },
     "output_type": "display_data"
    }
   ],
   "source": [
    "plt.figure(figsize = (12,8))\n",
    "plt.scatter(vol_arr, ret_arr, c = sharpe_arr, cmap = 'plasma')\n",
    "plt.colorbar(label = 'Sharpe Ratio')\n",
    "plt.xlabel('Volatility')\n",
    "plt.ylabel('Return')\n",
    "\n",
    "plt.plot(frontier_vol, frontier_y, 'g--', linewidth = 3)"
   ]
  },
  {
   "cell_type": "code",
   "execution_count": null,
   "metadata": {},
   "outputs": [],
   "source": []
  },
  {
   "cell_type": "code",
   "execution_count": null,
   "metadata": {},
   "outputs": [],
   "source": []
  },
  {
   "cell_type": "code",
   "execution_count": null,
   "metadata": {},
   "outputs": [],
   "source": []
  },
  {
   "cell_type": "code",
   "execution_count": null,
   "metadata": {},
   "outputs": [],
   "source": [
    "\"\"\"\n",
    "EWMA, EMA, TEMA, \n",
    "MACD\n",
    "Stochastic Oscillator\n",
    "RSI\n",
    "Volume\n",
    "\n",
    "\"\"\""
   ]
  }
 ],
 "metadata": {
  "kernelspec": {
   "display_name": "Python 3",
   "language": "python",
   "name": "python3"
  },
  "language_info": {
   "codemirror_mode": {
    "name": "ipython",
    "version": 3
   },
   "file_extension": ".py",
   "mimetype": "text/x-python",
   "name": "python",
   "nbconvert_exporter": "python",
   "pygments_lexer": "ipython3",
   "version": "3.7.3"
  }
 },
 "nbformat": 4,
 "nbformat_minor": 4
}
